{
 "cells": [
  {
   "cell_type": "markdown",
   "metadata": {},
   "source": [
    "#Bayes Example\n",
    "\n",
    "This is an example of Bayes Theorm\n",
    "\n",
    "##Set Up\n",
    "\n",
    "There is a fair coin.  The probabilities are:\n",
    "\n",
    "    Tails .5   Heads  .5\n",
    "    \n",
    "There is also a biased coin.  The probabilities are:\n",
    "\n",
    "    Tails .4   Heads  .6\n",
    "    \n",
    "##Prior to flip\n",
    "\n",
    "###Notation:\n",
    "\n",
    "    A   The coin comes up tails\n",
    "    'A  The coint comes up heads\n",
    "    B   The coin is fair\n",
    "    'B  The coin is biased \n",
    "\n",
    "### Known Probabilities\n",
    "\n",
    "What is the probabilty the coin is fair P(Y=B)?  What is the probability the coin is biased P(Y='B)?\n",
    "\n",
    "    Fair   .5\n",
    "    Biased .5\n",
    "\n",
    "### Known Conditional Probabilities\n",
    "\n",
    "    Probability of tails if the coin is fair P(A|B)?  .5\n",
    "    Probability of tails if the coin is biased P(A|'B)?  .4\n",
    "    \n",
    "\n",
    "    \n",
    "    "
   ]
  },
  {
   "cell_type": "code",
   "execution_count": null,
   "metadata": {
    "collapsed": true
   },
   "outputs": [],
   "source": []
  }
 ],
 "metadata": {
  "kernelspec": {
   "display_name": "Python 2",
   "language": "python",
   "name": "python2"
  },
  "language_info": {
   "codemirror_mode": {
    "name": "ipython",
    "version": 2
   },
   "file_extension": ".py",
   "mimetype": "text/x-python",
   "name": "python",
   "nbconvert_exporter": "python",
   "pygments_lexer": "ipython2",
   "version": "2.7.10"
  }
 },
 "nbformat": 4,
 "nbformat_minor": 0
}
